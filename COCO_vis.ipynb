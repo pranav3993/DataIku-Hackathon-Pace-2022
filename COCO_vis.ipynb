{
  "cells": [
    {
      "cell_type": "code",
      "execution_count": 112,
      "metadata": {
        "id": "ZNWocRvYFJ9B"
      },
      "outputs": [],
      "source": [
        "import pandas as pd\n",
        "import seaborn as sns\n",
        "import matplotlib.pyplot as plt\n",
        "from scipy.stats import zscore,chi2_contingency,chi2\n",
        "import plotly.express as px\n",
        "from scipy.stats import norm\n",
        "\n",
        "import warnings\n",
        "warnings.filterwarnings('ignore')"
      ]
    },
    {
      "cell_type": "markdown",
      "source": [
        "# Exploratory Data Analysis and Cleaning"
      ],
      "metadata": {
        "id": "7UWMbjk1H56d"
      }
    },
    {
      "cell_type": "code",
      "execution_count": 98,
      "metadata": {
        "colab": {
          "base_uri": "https://localhost:8080/",
          "height": 297
        },
        "id": "MD6t3gY-FJ9D",
        "outputId": "900e0fa5-0a3e-47be-c239-698b40e1a1cc"
      },
      "outputs": [
        {
          "output_type": "execute_result",
          "data": {
            "text/plain": [
              "   id company_location country_of_bean_origin  cocoa_percent  rating sweet  \\\n",
              "0   1           U.S.A.               Tanzania           76.0    3.25    No   \n",
              "1   2           U.S.A.     Dominican Republic           76.0    3.50    No   \n",
              "2   3           U.S.A.             Madagascar           76.0    3.75    No   \n",
              "3   4           U.S.A.                  Other           68.0    3.00    No   \n",
              "4   5           U.S.A.                  Other           80.0    3.25    No   \n",
              "\n",
              "  nutty cocoa roasty earthy  ... rich dried.fruit ingredient_Beans  \\\n",
              "0    No   Yes     No     No  ...  Yes          No              Yes   \n",
              "1    No   Yes     No     No  ...   No          No              Yes   \n",
              "2    No   Yes     No     No  ...   No          No              Yes   \n",
              "3    No    No     No     No  ...   No          No              Yes   \n",
              "4    No   Yes     No     No  ...   No          No              Yes   \n",
              "\n",
              "  ingredient_Sugar ingredient_Sweetener ingredient_Cocoa_Butter  \\\n",
              "0              Yes                  Yes                     Yes   \n",
              "1              Yes                  Yes                     Yes   \n",
              "2              Yes                  Yes                     Yes   \n",
              "3              Yes                  Yes                     Yes   \n",
              "4              Yes                  Yes                     Yes   \n",
              "\n",
              "  ingredient_vanilla ingredient_lecithin ingredient_salt number_of_ingredients  \n",
              "0                 No                  No              No                   3.0  \n",
              "1                 No                  No              No                   3.0  \n",
              "2                 No                  No              No                   3.0  \n",
              "3                 No                  No              No                   3.0  \n",
              "4                 No                  No              No                   3.0  \n",
              "\n",
              "[5 rows x 33 columns]"
            ],
            "text/html": [
              "\n",
              "  <div id=\"df-43374330-b88c-4a92-aa9c-99e43dce2f82\">\n",
              "    <div class=\"colab-df-container\">\n",
              "      <div>\n",
              "<style scoped>\n",
              "    .dataframe tbody tr th:only-of-type {\n",
              "        vertical-align: middle;\n",
              "    }\n",
              "\n",
              "    .dataframe tbody tr th {\n",
              "        vertical-align: top;\n",
              "    }\n",
              "\n",
              "    .dataframe thead th {\n",
              "        text-align: right;\n",
              "    }\n",
              "</style>\n",
              "<table border=\"1\" class=\"dataframe\">\n",
              "  <thead>\n",
              "    <tr style=\"text-align: right;\">\n",
              "      <th></th>\n",
              "      <th>id</th>\n",
              "      <th>company_location</th>\n",
              "      <th>country_of_bean_origin</th>\n",
              "      <th>cocoa_percent</th>\n",
              "      <th>rating</th>\n",
              "      <th>sweet</th>\n",
              "      <th>nutty</th>\n",
              "      <th>cocoa</th>\n",
              "      <th>roasty</th>\n",
              "      <th>earthy</th>\n",
              "      <th>...</th>\n",
              "      <th>rich</th>\n",
              "      <th>dried.fruit</th>\n",
              "      <th>ingredient_Beans</th>\n",
              "      <th>ingredient_Sugar</th>\n",
              "      <th>ingredient_Sweetener</th>\n",
              "      <th>ingredient_Cocoa_Butter</th>\n",
              "      <th>ingredient_vanilla</th>\n",
              "      <th>ingredient_lecithin</th>\n",
              "      <th>ingredient_salt</th>\n",
              "      <th>number_of_ingredients</th>\n",
              "    </tr>\n",
              "  </thead>\n",
              "  <tbody>\n",
              "    <tr>\n",
              "      <th>0</th>\n",
              "      <td>1</td>\n",
              "      <td>U.S.A.</td>\n",
              "      <td>Tanzania</td>\n",
              "      <td>76.0</td>\n",
              "      <td>3.25</td>\n",
              "      <td>No</td>\n",
              "      <td>No</td>\n",
              "      <td>Yes</td>\n",
              "      <td>No</td>\n",
              "      <td>No</td>\n",
              "      <td>...</td>\n",
              "      <td>Yes</td>\n",
              "      <td>No</td>\n",
              "      <td>Yes</td>\n",
              "      <td>Yes</td>\n",
              "      <td>Yes</td>\n",
              "      <td>Yes</td>\n",
              "      <td>No</td>\n",
              "      <td>No</td>\n",
              "      <td>No</td>\n",
              "      <td>3.0</td>\n",
              "    </tr>\n",
              "    <tr>\n",
              "      <th>1</th>\n",
              "      <td>2</td>\n",
              "      <td>U.S.A.</td>\n",
              "      <td>Dominican Republic</td>\n",
              "      <td>76.0</td>\n",
              "      <td>3.50</td>\n",
              "      <td>No</td>\n",
              "      <td>No</td>\n",
              "      <td>Yes</td>\n",
              "      <td>No</td>\n",
              "      <td>No</td>\n",
              "      <td>...</td>\n",
              "      <td>No</td>\n",
              "      <td>No</td>\n",
              "      <td>Yes</td>\n",
              "      <td>Yes</td>\n",
              "      <td>Yes</td>\n",
              "      <td>Yes</td>\n",
              "      <td>No</td>\n",
              "      <td>No</td>\n",
              "      <td>No</td>\n",
              "      <td>3.0</td>\n",
              "    </tr>\n",
              "    <tr>\n",
              "      <th>2</th>\n",
              "      <td>3</td>\n",
              "      <td>U.S.A.</td>\n",
              "      <td>Madagascar</td>\n",
              "      <td>76.0</td>\n",
              "      <td>3.75</td>\n",
              "      <td>No</td>\n",
              "      <td>No</td>\n",
              "      <td>Yes</td>\n",
              "      <td>No</td>\n",
              "      <td>No</td>\n",
              "      <td>...</td>\n",
              "      <td>No</td>\n",
              "      <td>No</td>\n",
              "      <td>Yes</td>\n",
              "      <td>Yes</td>\n",
              "      <td>Yes</td>\n",
              "      <td>Yes</td>\n",
              "      <td>No</td>\n",
              "      <td>No</td>\n",
              "      <td>No</td>\n",
              "      <td>3.0</td>\n",
              "    </tr>\n",
              "    <tr>\n",
              "      <th>3</th>\n",
              "      <td>4</td>\n",
              "      <td>U.S.A.</td>\n",
              "      <td>Other</td>\n",
              "      <td>68.0</td>\n",
              "      <td>3.00</td>\n",
              "      <td>No</td>\n",
              "      <td>No</td>\n",
              "      <td>No</td>\n",
              "      <td>No</td>\n",
              "      <td>No</td>\n",
              "      <td>...</td>\n",
              "      <td>No</td>\n",
              "      <td>No</td>\n",
              "      <td>Yes</td>\n",
              "      <td>Yes</td>\n",
              "      <td>Yes</td>\n",
              "      <td>Yes</td>\n",
              "      <td>No</td>\n",
              "      <td>No</td>\n",
              "      <td>No</td>\n",
              "      <td>3.0</td>\n",
              "    </tr>\n",
              "    <tr>\n",
              "      <th>4</th>\n",
              "      <td>5</td>\n",
              "      <td>U.S.A.</td>\n",
              "      <td>Other</td>\n",
              "      <td>80.0</td>\n",
              "      <td>3.25</td>\n",
              "      <td>No</td>\n",
              "      <td>No</td>\n",
              "      <td>Yes</td>\n",
              "      <td>No</td>\n",
              "      <td>No</td>\n",
              "      <td>...</td>\n",
              "      <td>No</td>\n",
              "      <td>No</td>\n",
              "      <td>Yes</td>\n",
              "      <td>Yes</td>\n",
              "      <td>Yes</td>\n",
              "      <td>Yes</td>\n",
              "      <td>No</td>\n",
              "      <td>No</td>\n",
              "      <td>No</td>\n",
              "      <td>3.0</td>\n",
              "    </tr>\n",
              "  </tbody>\n",
              "</table>\n",
              "<p>5 rows × 33 columns</p>\n",
              "</div>\n",
              "      <button class=\"colab-df-convert\" onclick=\"convertToInteractive('df-43374330-b88c-4a92-aa9c-99e43dce2f82')\"\n",
              "              title=\"Convert this dataframe to an interactive table.\"\n",
              "              style=\"display:none;\">\n",
              "        \n",
              "  <svg xmlns=\"http://www.w3.org/2000/svg\" height=\"24px\"viewBox=\"0 0 24 24\"\n",
              "       width=\"24px\">\n",
              "    <path d=\"M0 0h24v24H0V0z\" fill=\"none\"/>\n",
              "    <path d=\"M18.56 5.44l.94 2.06.94-2.06 2.06-.94-2.06-.94-.94-2.06-.94 2.06-2.06.94zm-11 1L8.5 8.5l.94-2.06 2.06-.94-2.06-.94L8.5 2.5l-.94 2.06-2.06.94zm10 10l.94 2.06.94-2.06 2.06-.94-2.06-.94-.94-2.06-.94 2.06-2.06.94z\"/><path d=\"M17.41 7.96l-1.37-1.37c-.4-.4-.92-.59-1.43-.59-.52 0-1.04.2-1.43.59L10.3 9.45l-7.72 7.72c-.78.78-.78 2.05 0 2.83L4 21.41c.39.39.9.59 1.41.59.51 0 1.02-.2 1.41-.59l7.78-7.78 2.81-2.81c.8-.78.8-2.07 0-2.86zM5.41 20L4 18.59l7.72-7.72 1.47 1.35L5.41 20z\"/>\n",
              "  </svg>\n",
              "      </button>\n",
              "      \n",
              "  <style>\n",
              "    .colab-df-container {\n",
              "      display:flex;\n",
              "      flex-wrap:wrap;\n",
              "      gap: 12px;\n",
              "    }\n",
              "\n",
              "    .colab-df-convert {\n",
              "      background-color: #E8F0FE;\n",
              "      border: none;\n",
              "      border-radius: 50%;\n",
              "      cursor: pointer;\n",
              "      display: none;\n",
              "      fill: #1967D2;\n",
              "      height: 32px;\n",
              "      padding: 0 0 0 0;\n",
              "      width: 32px;\n",
              "    }\n",
              "\n",
              "    .colab-df-convert:hover {\n",
              "      background-color: #E2EBFA;\n",
              "      box-shadow: 0px 1px 2px rgba(60, 64, 67, 0.3), 0px 1px 3px 1px rgba(60, 64, 67, 0.15);\n",
              "      fill: #174EA6;\n",
              "    }\n",
              "\n",
              "    [theme=dark] .colab-df-convert {\n",
              "      background-color: #3B4455;\n",
              "      fill: #D2E3FC;\n",
              "    }\n",
              "\n",
              "    [theme=dark] .colab-df-convert:hover {\n",
              "      background-color: #434B5C;\n",
              "      box-shadow: 0px 1px 3px 1px rgba(0, 0, 0, 0.15);\n",
              "      filter: drop-shadow(0px 1px 2px rgba(0, 0, 0, 0.3));\n",
              "      fill: #FFFFFF;\n",
              "    }\n",
              "  </style>\n",
              "\n",
              "      <script>\n",
              "        const buttonEl =\n",
              "          document.querySelector('#df-43374330-b88c-4a92-aa9c-99e43dce2f82 button.colab-df-convert');\n",
              "        buttonEl.style.display =\n",
              "          google.colab.kernel.accessAllowed ? 'block' : 'none';\n",
              "\n",
              "        async function convertToInteractive(key) {\n",
              "          const element = document.querySelector('#df-43374330-b88c-4a92-aa9c-99e43dce2f82');\n",
              "          const dataTable =\n",
              "            await google.colab.kernel.invokeFunction('convertToInteractive',\n",
              "                                                     [key], {});\n",
              "          if (!dataTable) return;\n",
              "\n",
              "          const docLinkHtml = 'Like what you see? Visit the ' +\n",
              "            '<a target=\"_blank\" href=https://colab.research.google.com/notebooks/data_table.ipynb>data table notebook</a>'\n",
              "            + ' to learn more about interactive tables.';\n",
              "          element.innerHTML = '';\n",
              "          dataTable['output_type'] = 'display_data';\n",
              "          await google.colab.output.renderOutput(dataTable, element);\n",
              "          const docLink = document.createElement('div');\n",
              "          docLink.innerHTML = docLinkHtml;\n",
              "          element.appendChild(docLink);\n",
              "        }\n",
              "      </script>\n",
              "    </div>\n",
              "  </div>\n",
              "  "
            ]
          },
          "metadata": {},
          "execution_count": 98
        }
      ],
      "source": [
        "#Loading data with Pandas\n",
        "coco_df = pd.read_csv('/content/data.csv')\n",
        "coco_df.head()"
      ]
    },
    {
      "cell_type": "code",
      "source": [
        "#the structure of the dataframe\n",
        "coco_df.info()"
      ],
      "metadata": {
        "colab": {
          "base_uri": "https://localhost:8080/"
        },
        "id": "_aPtjdU3IK-6",
        "outputId": "61cbc142-8dd3-41a6-e31e-bf3c40777bed"
      },
      "execution_count": 99,
      "outputs": [
        {
          "output_type": "stream",
          "name": "stdout",
          "text": [
            "<class 'pandas.core.frame.DataFrame'>\n",
            "RangeIndex: 2130 entries, 0 to 2129\n",
            "Data columns (total 33 columns):\n",
            " #   Column                   Non-Null Count  Dtype  \n",
            "---  ------                   --------------  -----  \n",
            " 0   id                       2130 non-null   int64  \n",
            " 1   company_location         2130 non-null   object \n",
            " 2   country_of_bean_origin   2130 non-null   object \n",
            " 3   cocoa_percent            2130 non-null   float64\n",
            " 4   rating                   2130 non-null   float64\n",
            " 5   sweet                    2130 non-null   object \n",
            " 6   nutty                    2130 non-null   object \n",
            " 7   cocoa                    2130 non-null   object \n",
            " 8   roasty                   2130 non-null   object \n",
            " 9   earthy                   2130 non-null   object \n",
            " 10  creamy                   2130 non-null   object \n",
            " 11  sandy                    2130 non-null   object \n",
            " 12  fatty                    2130 non-null   object \n",
            " 13  floral                   2130 non-null   object \n",
            " 14  intense                  2130 non-null   object \n",
            " 15  spicy                    2130 non-null   object \n",
            " 16  sour                     2130 non-null   object \n",
            " 17  vanilla                  2130 non-null   object \n",
            " 18  fruit                    2130 non-null   object \n",
            " 19  molasses                 2130 non-null   object \n",
            " 20  woody                    2130 non-null   object \n",
            " 21  sticky                   2130 non-null   object \n",
            " 22  coffee                   2130 non-null   object \n",
            " 23  rich                     2130 non-null   object \n",
            " 24  dried.fruit              2130 non-null   object \n",
            " 25  ingredient_Beans         2130 non-null   object \n",
            " 26  ingredient_Sugar         2130 non-null   object \n",
            " 27  ingredient_Sweetener     2130 non-null   object \n",
            " 28  ingredient_Cocoa_Butter  2130 non-null   object \n",
            " 29  ingredient_vanilla       2130 non-null   object \n",
            " 30  ingredient_lecithin      2130 non-null   object \n",
            " 31  ingredient_salt          2130 non-null   object \n",
            " 32  number_of_ingredients    2060 non-null   float64\n",
            "dtypes: float64(3), int64(1), object(29)\n",
            "memory usage: 549.3+ KB\n"
          ]
        }
      ]
    },
    {
      "cell_type": "code",
      "execution_count": 100,
      "metadata": {
        "colab": {
          "base_uri": "https://localhost:8080/"
        },
        "id": "lJr6RBPhFJ9F",
        "outputId": "2807005d-a313-4b41-8624-3495522ee898"
      },
      "outputs": [
        {
          "output_type": "execute_result",
          "data": {
            "text/plain": [
              "(2130, 33)"
            ]
          },
          "metadata": {},
          "execution_count": 100
        }
      ],
      "source": [
        "#shapeof the dataframe\n",
        "coco_df.shape"
      ]
    },
    {
      "cell_type": "code",
      "execution_count": 101,
      "metadata": {
        "colab": {
          "base_uri": "https://localhost:8080/"
        },
        "id": "LGU7Q7gVFJ9F",
        "outputId": "7139c342-98a7-4fa4-a384-5e1c5a4e48cc"
      },
      "outputs": [
        {
          "output_type": "execute_result",
          "data": {
            "text/plain": [
              "id                          0\n",
              "company_location            0\n",
              "country_of_bean_origin      0\n",
              "cocoa_percent               0\n",
              "rating                      0\n",
              "sweet                       0\n",
              "nutty                       0\n",
              "cocoa                       0\n",
              "roasty                      0\n",
              "earthy                      0\n",
              "creamy                      0\n",
              "sandy                       0\n",
              "fatty                       0\n",
              "floral                      0\n",
              "intense                     0\n",
              "spicy                       0\n",
              "sour                        0\n",
              "vanilla                     0\n",
              "fruit                       0\n",
              "molasses                    0\n",
              "woody                       0\n",
              "sticky                      0\n",
              "coffee                      0\n",
              "rich                        0\n",
              "dried.fruit                 0\n",
              "ingredient_Beans            0\n",
              "ingredient_Sugar            0\n",
              "ingredient_Sweetener        0\n",
              "ingredient_Cocoa_Butter     0\n",
              "ingredient_vanilla          0\n",
              "ingredient_lecithin         0\n",
              "ingredient_salt             0\n",
              "number_of_ingredients      70\n",
              "dtype: int64"
            ]
          },
          "metadata": {},
          "execution_count": 101
        }
      ],
      "source": [
        "#Total Missing Values\n",
        "coco_df.isnull().sum()    # most of the data is clean but there are 70 null values in \"number_of_ingredients\"      "
      ]
    },
    {
      "cell_type": "code",
      "execution_count": 102,
      "metadata": {
        "id": "7E7Oe-bgFJ9F"
      },
      "outputs": [],
      "source": [
        "coco_df1 = coco_df.fillna(0)"
      ]
    },
    {
      "cell_type": "code",
      "execution_count": 16,
      "metadata": {
        "colab": {
          "base_uri": "https://localhost:8080/"
        },
        "id": "c8C6lfwAFJ9G",
        "outputId": "a254f452-0de0-4f69-8102-76133649bde4"
      },
      "outputs": [
        {
          "output_type": "execute_result",
          "data": {
            "text/plain": [
              "id                         0\n",
              "company_location           0\n",
              "country_of_bean_origin     0\n",
              "cocoa_percent              0\n",
              "rating                     0\n",
              "sweet                      0\n",
              "nutty                      0\n",
              "cocoa                      0\n",
              "roasty                     0\n",
              "earthy                     0\n",
              "creamy                     0\n",
              "sandy                      0\n",
              "fatty                      0\n",
              "floral                     0\n",
              "intense                    0\n",
              "spicy                      0\n",
              "sour                       0\n",
              "vanilla                    0\n",
              "fruit                      0\n",
              "molasses                   0\n",
              "woody                      0\n",
              "sticky                     0\n",
              "coffee                     0\n",
              "rich                       0\n",
              "dried.fruit                0\n",
              "ingredient_Beans           0\n",
              "ingredient_Sugar           0\n",
              "ingredient_Sweetener       0\n",
              "ingredient_Cocoa_Butter    0\n",
              "ingredient_vanilla         0\n",
              "ingredient_lecithin        0\n",
              "ingredient_salt            0\n",
              "number_of_ingredients      0\n",
              "dtype: int64"
            ]
          },
          "metadata": {},
          "execution_count": 16
        }
      ],
      "source": [
        "coco_df1.isnull().sum() "
      ]
    },
    {
      "cell_type": "code",
      "execution_count": 83,
      "metadata": {
        "colab": {
          "base_uri": "https://localhost:8080/"
        },
        "id": "lbEN3EPtFJ9H",
        "outputId": "49b4177f-89d9-437d-df1a-d4808ae5438e"
      },
      "outputs": [
        {
          "output_type": "execute_result",
          "data": {
            "text/plain": [
              "id                           int64\n",
              "company_location            object\n",
              "country_of_bean_origin      object\n",
              "cocoa_percent              float64\n",
              "rating                     float64\n",
              "sweet                       object\n",
              "nutty                       object\n",
              "cocoa                       object\n",
              "roasty                      object\n",
              "earthy                      object\n",
              "creamy                      object\n",
              "sandy                       object\n",
              "fatty                       object\n",
              "floral                      object\n",
              "intense                     object\n",
              "spicy                       object\n",
              "sour                        object\n",
              "vanilla                     object\n",
              "fruit                       object\n",
              "molasses                    object\n",
              "woody                       object\n",
              "sticky                      object\n",
              "coffee                      object\n",
              "rich                        object\n",
              "dried.fruit                 object\n",
              "ingredient_Beans            object\n",
              "ingredient_Sugar            object\n",
              "ingredient_Sweetener        object\n",
              "ingredient_Cocoa_Butter     object\n",
              "ingredient_vanilla          object\n",
              "ingredient_lecithin         object\n",
              "ingredient_salt             object\n",
              "number_of_ingredients      float64\n",
              "dtype: object"
            ]
          },
          "metadata": {},
          "execution_count": 83
        }
      ],
      "source": [
        "coco_df1.dtypes"
      ]
    },
    {
      "cell_type": "code",
      "source": [
        "coco_df1['number_of_ingredients'] = coco_df1['number_of_ingredients'].astype(int)"
      ],
      "metadata": {
        "id": "Xxt8LyqqWwWg"
      },
      "execution_count": 103,
      "outputs": []
    },
    {
      "cell_type": "code",
      "execution_count": 104,
      "metadata": {
        "id": "biLy9HLzFJ9J"
      },
      "outputs": [],
      "source": [
        "coco_df1['number_of_ingredients'] = coco_df1['number_of_ingredients'] + 1"
      ]
    },
    {
      "cell_type": "code",
      "execution_count": 105,
      "metadata": {
        "scrolled": true,
        "colab": {
          "base_uri": "https://localhost:8080/",
          "height": 297
        },
        "id": "Q4mTe6ncFJ9J",
        "outputId": "81cafeb6-dcaa-45ac-efbb-c4591ae5fb9c"
      },
      "outputs": [
        {
          "output_type": "execute_result",
          "data": {
            "text/plain": [
              "   id company_location country_of_bean_origin  cocoa_percent  rating sweet  \\\n",
              "0   1           U.S.A.               Tanzania           76.0    3.25    No   \n",
              "1   2           U.S.A.     Dominican Republic           76.0    3.50    No   \n",
              "2   3           U.S.A.             Madagascar           76.0    3.75    No   \n",
              "3   4           U.S.A.                  Other           68.0    3.00    No   \n",
              "4   5           U.S.A.                  Other           80.0    3.25    No   \n",
              "\n",
              "  nutty cocoa roasty earthy  ... rich dried.fruit ingredient_Beans  \\\n",
              "0    No   Yes     No     No  ...  Yes          No              Yes   \n",
              "1    No   Yes     No     No  ...   No          No              Yes   \n",
              "2    No   Yes     No     No  ...   No          No              Yes   \n",
              "3    No    No     No     No  ...   No          No              Yes   \n",
              "4    No   Yes     No     No  ...   No          No              Yes   \n",
              "\n",
              "  ingredient_Sugar ingredient_Sweetener ingredient_Cocoa_Butter  \\\n",
              "0              Yes                  Yes                     Yes   \n",
              "1              Yes                  Yes                     Yes   \n",
              "2              Yes                  Yes                     Yes   \n",
              "3              Yes                  Yes                     Yes   \n",
              "4              Yes                  Yes                     Yes   \n",
              "\n",
              "  ingredient_vanilla ingredient_lecithin ingredient_salt number_of_ingredients  \n",
              "0                 No                  No              No                     4  \n",
              "1                 No                  No              No                     4  \n",
              "2                 No                  No              No                     4  \n",
              "3                 No                  No              No                     4  \n",
              "4                 No                  No              No                     4  \n",
              "\n",
              "[5 rows x 33 columns]"
            ],
            "text/html": [
              "\n",
              "  <div id=\"df-4786c930-2231-4e20-aebe-cfabfb680e41\">\n",
              "    <div class=\"colab-df-container\">\n",
              "      <div>\n",
              "<style scoped>\n",
              "    .dataframe tbody tr th:only-of-type {\n",
              "        vertical-align: middle;\n",
              "    }\n",
              "\n",
              "    .dataframe tbody tr th {\n",
              "        vertical-align: top;\n",
              "    }\n",
              "\n",
              "    .dataframe thead th {\n",
              "        text-align: right;\n",
              "    }\n",
              "</style>\n",
              "<table border=\"1\" class=\"dataframe\">\n",
              "  <thead>\n",
              "    <tr style=\"text-align: right;\">\n",
              "      <th></th>\n",
              "      <th>id</th>\n",
              "      <th>company_location</th>\n",
              "      <th>country_of_bean_origin</th>\n",
              "      <th>cocoa_percent</th>\n",
              "      <th>rating</th>\n",
              "      <th>sweet</th>\n",
              "      <th>nutty</th>\n",
              "      <th>cocoa</th>\n",
              "      <th>roasty</th>\n",
              "      <th>earthy</th>\n",
              "      <th>...</th>\n",
              "      <th>rich</th>\n",
              "      <th>dried.fruit</th>\n",
              "      <th>ingredient_Beans</th>\n",
              "      <th>ingredient_Sugar</th>\n",
              "      <th>ingredient_Sweetener</th>\n",
              "      <th>ingredient_Cocoa_Butter</th>\n",
              "      <th>ingredient_vanilla</th>\n",
              "      <th>ingredient_lecithin</th>\n",
              "      <th>ingredient_salt</th>\n",
              "      <th>number_of_ingredients</th>\n",
              "    </tr>\n",
              "  </thead>\n",
              "  <tbody>\n",
              "    <tr>\n",
              "      <th>0</th>\n",
              "      <td>1</td>\n",
              "      <td>U.S.A.</td>\n",
              "      <td>Tanzania</td>\n",
              "      <td>76.0</td>\n",
              "      <td>3.25</td>\n",
              "      <td>No</td>\n",
              "      <td>No</td>\n",
              "      <td>Yes</td>\n",
              "      <td>No</td>\n",
              "      <td>No</td>\n",
              "      <td>...</td>\n",
              "      <td>Yes</td>\n",
              "      <td>No</td>\n",
              "      <td>Yes</td>\n",
              "      <td>Yes</td>\n",
              "      <td>Yes</td>\n",
              "      <td>Yes</td>\n",
              "      <td>No</td>\n",
              "      <td>No</td>\n",
              "      <td>No</td>\n",
              "      <td>4</td>\n",
              "    </tr>\n",
              "    <tr>\n",
              "      <th>1</th>\n",
              "      <td>2</td>\n",
              "      <td>U.S.A.</td>\n",
              "      <td>Dominican Republic</td>\n",
              "      <td>76.0</td>\n",
              "      <td>3.50</td>\n",
              "      <td>No</td>\n",
              "      <td>No</td>\n",
              "      <td>Yes</td>\n",
              "      <td>No</td>\n",
              "      <td>No</td>\n",
              "      <td>...</td>\n",
              "      <td>No</td>\n",
              "      <td>No</td>\n",
              "      <td>Yes</td>\n",
              "      <td>Yes</td>\n",
              "      <td>Yes</td>\n",
              "      <td>Yes</td>\n",
              "      <td>No</td>\n",
              "      <td>No</td>\n",
              "      <td>No</td>\n",
              "      <td>4</td>\n",
              "    </tr>\n",
              "    <tr>\n",
              "      <th>2</th>\n",
              "      <td>3</td>\n",
              "      <td>U.S.A.</td>\n",
              "      <td>Madagascar</td>\n",
              "      <td>76.0</td>\n",
              "      <td>3.75</td>\n",
              "      <td>No</td>\n",
              "      <td>No</td>\n",
              "      <td>Yes</td>\n",
              "      <td>No</td>\n",
              "      <td>No</td>\n",
              "      <td>...</td>\n",
              "      <td>No</td>\n",
              "      <td>No</td>\n",
              "      <td>Yes</td>\n",
              "      <td>Yes</td>\n",
              "      <td>Yes</td>\n",
              "      <td>Yes</td>\n",
              "      <td>No</td>\n",
              "      <td>No</td>\n",
              "      <td>No</td>\n",
              "      <td>4</td>\n",
              "    </tr>\n",
              "    <tr>\n",
              "      <th>3</th>\n",
              "      <td>4</td>\n",
              "      <td>U.S.A.</td>\n",
              "      <td>Other</td>\n",
              "      <td>68.0</td>\n",
              "      <td>3.00</td>\n",
              "      <td>No</td>\n",
              "      <td>No</td>\n",
              "      <td>No</td>\n",
              "      <td>No</td>\n",
              "      <td>No</td>\n",
              "      <td>...</td>\n",
              "      <td>No</td>\n",
              "      <td>No</td>\n",
              "      <td>Yes</td>\n",
              "      <td>Yes</td>\n",
              "      <td>Yes</td>\n",
              "      <td>Yes</td>\n",
              "      <td>No</td>\n",
              "      <td>No</td>\n",
              "      <td>No</td>\n",
              "      <td>4</td>\n",
              "    </tr>\n",
              "    <tr>\n",
              "      <th>4</th>\n",
              "      <td>5</td>\n",
              "      <td>U.S.A.</td>\n",
              "      <td>Other</td>\n",
              "      <td>80.0</td>\n",
              "      <td>3.25</td>\n",
              "      <td>No</td>\n",
              "      <td>No</td>\n",
              "      <td>Yes</td>\n",
              "      <td>No</td>\n",
              "      <td>No</td>\n",
              "      <td>...</td>\n",
              "      <td>No</td>\n",
              "      <td>No</td>\n",
              "      <td>Yes</td>\n",
              "      <td>Yes</td>\n",
              "      <td>Yes</td>\n",
              "      <td>Yes</td>\n",
              "      <td>No</td>\n",
              "      <td>No</td>\n",
              "      <td>No</td>\n",
              "      <td>4</td>\n",
              "    </tr>\n",
              "  </tbody>\n",
              "</table>\n",
              "<p>5 rows × 33 columns</p>\n",
              "</div>\n",
              "      <button class=\"colab-df-convert\" onclick=\"convertToInteractive('df-4786c930-2231-4e20-aebe-cfabfb680e41')\"\n",
              "              title=\"Convert this dataframe to an interactive table.\"\n",
              "              style=\"display:none;\">\n",
              "        \n",
              "  <svg xmlns=\"http://www.w3.org/2000/svg\" height=\"24px\"viewBox=\"0 0 24 24\"\n",
              "       width=\"24px\">\n",
              "    <path d=\"M0 0h24v24H0V0z\" fill=\"none\"/>\n",
              "    <path d=\"M18.56 5.44l.94 2.06.94-2.06 2.06-.94-2.06-.94-.94-2.06-.94 2.06-2.06.94zm-11 1L8.5 8.5l.94-2.06 2.06-.94-2.06-.94L8.5 2.5l-.94 2.06-2.06.94zm10 10l.94 2.06.94-2.06 2.06-.94-2.06-.94-.94-2.06-.94 2.06-2.06.94z\"/><path d=\"M17.41 7.96l-1.37-1.37c-.4-.4-.92-.59-1.43-.59-.52 0-1.04.2-1.43.59L10.3 9.45l-7.72 7.72c-.78.78-.78 2.05 0 2.83L4 21.41c.39.39.9.59 1.41.59.51 0 1.02-.2 1.41-.59l7.78-7.78 2.81-2.81c.8-.78.8-2.07 0-2.86zM5.41 20L4 18.59l7.72-7.72 1.47 1.35L5.41 20z\"/>\n",
              "  </svg>\n",
              "      </button>\n",
              "      \n",
              "  <style>\n",
              "    .colab-df-container {\n",
              "      display:flex;\n",
              "      flex-wrap:wrap;\n",
              "      gap: 12px;\n",
              "    }\n",
              "\n",
              "    .colab-df-convert {\n",
              "      background-color: #E8F0FE;\n",
              "      border: none;\n",
              "      border-radius: 50%;\n",
              "      cursor: pointer;\n",
              "      display: none;\n",
              "      fill: #1967D2;\n",
              "      height: 32px;\n",
              "      padding: 0 0 0 0;\n",
              "      width: 32px;\n",
              "    }\n",
              "\n",
              "    .colab-df-convert:hover {\n",
              "      background-color: #E2EBFA;\n",
              "      box-shadow: 0px 1px 2px rgba(60, 64, 67, 0.3), 0px 1px 3px 1px rgba(60, 64, 67, 0.15);\n",
              "      fill: #174EA6;\n",
              "    }\n",
              "\n",
              "    [theme=dark] .colab-df-convert {\n",
              "      background-color: #3B4455;\n",
              "      fill: #D2E3FC;\n",
              "    }\n",
              "\n",
              "    [theme=dark] .colab-df-convert:hover {\n",
              "      background-color: #434B5C;\n",
              "      box-shadow: 0px 1px 3px 1px rgba(0, 0, 0, 0.15);\n",
              "      filter: drop-shadow(0px 1px 2px rgba(0, 0, 0, 0.3));\n",
              "      fill: #FFFFFF;\n",
              "    }\n",
              "  </style>\n",
              "\n",
              "      <script>\n",
              "        const buttonEl =\n",
              "          document.querySelector('#df-4786c930-2231-4e20-aebe-cfabfb680e41 button.colab-df-convert');\n",
              "        buttonEl.style.display =\n",
              "          google.colab.kernel.accessAllowed ? 'block' : 'none';\n",
              "\n",
              "        async function convertToInteractive(key) {\n",
              "          const element = document.querySelector('#df-4786c930-2231-4e20-aebe-cfabfb680e41');\n",
              "          const dataTable =\n",
              "            await google.colab.kernel.invokeFunction('convertToInteractive',\n",
              "                                                     [key], {});\n",
              "          if (!dataTable) return;\n",
              "\n",
              "          const docLinkHtml = 'Like what you see? Visit the ' +\n",
              "            '<a target=\"_blank\" href=https://colab.research.google.com/notebooks/data_table.ipynb>data table notebook</a>'\n",
              "            + ' to learn more about interactive tables.';\n",
              "          element.innerHTML = '';\n",
              "          dataTable['output_type'] = 'display_data';\n",
              "          await google.colab.output.renderOutput(dataTable, element);\n",
              "          const docLink = document.createElement('div');\n",
              "          docLink.innerHTML = docLinkHtml;\n",
              "          element.appendChild(docLink);\n",
              "        }\n",
              "      </script>\n",
              "    </div>\n",
              "  </div>\n",
              "  "
            ]
          },
          "metadata": {},
          "execution_count": 105
        }
      ],
      "source": [
        "coco_df1.head()"
      ]
    },
    {
      "cell_type": "code",
      "execution_count": 106,
      "metadata": {
        "id": "JNSpHpMbFJ9O"
      },
      "outputs": [],
      "source": [
        "def plot_bar_chart_with_percent_label(df, target_variable, if_sort=False, gap_label_bar=0, figsize=(9,6)):\n",
        "    # prepare data\n",
        "    plot_data = df[[target_variable]].value_counts().reset_index(name='count')\n",
        "    plot_data['percent'] = plot_data['count']/plot_data['count'].sum()\n",
        "    if if_sort:\n",
        "        x_order = plot_data.sort_values(by=['percent'], ascending=False)[target_variable]\n",
        "    else:\n",
        "        x_order = plot_data.sort_values(by=[target_variable], ascending=True)[target_variable]\n",
        "    # plot\n",
        "    \n",
        "    fig = plt.figure(figsize=figsize)\n",
        "    ax = sns.barplot(data=plot_data, x=target_variable, y='percent', order=x_order)\n",
        "    # add label\n",
        "    for p in ax.patches:\n",
        "        x = p.get_x() + p.get_width()\n",
        "        y = p.get_height() + gap_label_bar\n",
        "        plt.xticks(rotation = 90)\n",
        "    ax.margins(y=0.1)"
      ]
    },
    {
      "cell_type": "code",
      "source": [
        "for attr in ['company_location',\t'country_of_bean_origin']:\n",
        "    plot_bar_chart_with_percent_label(df=coco_df1, target_variable=attr)"
      ],
      "metadata": {
        "colab": {
          "base_uri": "https://localhost:8080/",
          "height": 886
        },
        "id": "QzudYCSrS5Ee",
        "outputId": "ae2ca43f-550e-4588-de06-ff619f8d4d4f"
      },
      "execution_count": 107,
      "outputs": [
        {
          "output_type": "display_data",
          "data": {
            "text/plain": [
              "<Figure size 648x432 with 1 Axes>"
            ],
            "image/png": "[encoded data removed]"
          },
          "metadata": {
            "needs_background": "light"
          }
        },
        {
          "output_type": "display_data",
          "data": {
            "text/plain": [
              "<Figure size 648x432 with 1 Axes>"
            ],
            "image/png": "[encoded data removed]"
          },
          "metadata": {
            "needs_background": "light"
          }
        }
      ]
    },
    {
      "cell_type": "code",
      "execution_count": 108,
      "metadata": {
        "colab": {
          "base_uri": "https://localhost:8080/",
          "height": 1000
        },
        "id": "Vcw-z76VFJ9O",
        "outputId": "2157832a-8039-433d-cb4a-3d103d7f8aee"
      },
      "outputs": [
        {
          "output_type": "display_data",
          "data": {
            "text/plain": [
              "<Figure size 648x432 with 1 Axes>"
            ],
            "image/png": "[encoded data removed]"
          },
          "metadata": {
            "needs_background": "light"
          }
        },
        {
          "output_type": "display_data",
          "data": {
            "text/plain": [
              "<Figure size 648x432 with 1 Axes>"
            ],
            "image/png": "[encoded data removed]"
          },
          "metadata": {
            "needs_background": "light"
          }
        },
        {
          "output_type": "display_data",
          "data": {
            "text/plain": [
              "<Figure size 648x432 with 1 Axes>"
            ],
            "image/png": "[encoded data removed]"
          },
          "metadata": {
            "needs_background": "light"
          }
        },
        {
          "output_type": "display_data",
          "data": {
            "text/plain": [
              "<Figure size 648x432 with 1 Axes>"
            ],
            "image/png": "[encoded data removed]"
          },
          "metadata": {
            "needs_background": "light"
          }
        },
        {
          "output_type": "display_data",
          "data": {
            "text/plain": [
              "<Figure size 648x432 with 1 Axes>"
            ],
            "image/png": "[encoded data removed]"
          },
          "metadata": {
            "needs_background": "light"
          }
        },
        {
          "output_type": "display_data",
          "data": {
            "text/plain": [
              "<Figure size 648x432 with 1 Axes>"
            ],
            "image/png": "[encoded data removed]"
          },
          "metadata": {
            "needs_background": "light"
          }
        },
        {
          "output_type": "display_data",
          "data": {
            "text/plain": [
              "<Figure size 648x432 with 1 Axes>"
            ],
            "image/png": "[encoded data removed]"
          },
          "metadata": {
            "needs_background": "light"
          }
        },
        {
          "output_type": "display_data",
          "data": {
            "text/plain": [
              "<Figure size 648x432 with 1 Axes>"
            ],
            "image/png": "[encoded data removed]"
          },
          "metadata": {
            "needs_background": "light"
          }
        },
        {
          "output_type": "display_data",
          "data": {
            "text/plain": [
              "<Figure size 648x432 with 1 Axes>"
            ],
            "image/png": "[encoded data removed]"
          },
          "metadata": {
            "needs_background": "light"
          }
        },
        {
          "output_type": "display_data",
          "data": {
            "text/plain": [
              "<Figure size 648x432 with 1 Axes>"
            ],
            "image/png": "[encoded data removed]"
          },
          "metadata": {
            "needs_background": "light"
          }
        },
        {
          "output_type": "display_data",
          "data": {
            "text/plain": [
              "<Figure size 648x432 with 1 Axes>"
            ],
            "image/png": "[encoded data removed]"
          },
          "metadata": {
            "needs_background": "light"
          }
        },
        {
          "output_type": "display_data",
          "data": {
            "text/plain": [
              "<Figure size 648x432 with 1 Axes>"
            ],
            "image/png": "[encoded data removed]"
          },
          "metadata": {
            "needs_background": "light"
          }
        },
        {
          "output_type": "display_data",
          "data": {
            "text/plain": [
              "<Figure size 648x432 with 1 Axes>"
            ],
            "image/png": "[encoded data removed]"
          },
          "metadata": {
            "needs_background": "light"
          }
        },
        {
          "output_type": "display_data",
          "data": {
            "text/plain": [
              "<Figure size 648x432 with 1 Axes>"
            ],
            "image/png": "[encoded data removed]"
          },
          "metadata": {
            "needs_background": "light"
          }
        },
        {
          "output_type": "display_data",
          "data": {
            "text/plain": [
              "<Figure size 648x432 with 1 Axes>"
            ],
            "image/png": "[encoded data removed]"
          },
          "metadata": {
            "needs_background": "light"
          }
        },
        {
          "output_type": "display_data",
          "data": {
            "text/plain": [
              "<Figure size 648x432 with 1 Axes>"
            ],
            "image/png": "[encoded data removed]"
          },
          "metadata": {
            "needs_background": "light"
          }
        },
        {
          "output_type": "display_data",
          "data": {
            "text/plain": [
              "<Figure size 648x432 with 1 Axes>"
            ],
            "image/png": "[encoded data removed]"
          },
          "metadata": {
            "needs_background": "light"
          }
        },
        {
          "output_type": "display_data",
          "data": {
            "text/plain": [
              "<Figure size 648x432 with 1 Axes>"
            ],
            "image/png": "[encoded data removed]"
          },
          "metadata": {
            "needs_background": "light"
          }
        },
        {
          "output_type": "display_data",
          "data": {
            "text/plain": [
              "<Figure size 648x432 with 1 Axes>"
            ],
            "image/png": "[encoded data removed]"
          },
          "metadata": {
            "needs_background": "light"
          }
        },
        {
          "output_type": "display_data",
          "data": {
            "text/plain": [
              "<Figure size 648x432 with 1 Axes>"
            ],
            "image/png": "[encoded data removed]"
          },
          "metadata": {
            "needs_background": "light"
          }
        }
      ],
      "source": [
        "for attr in ['sweet','nutty','cocoa','roasty','earthy','creamy','sandy','fatty','floral','intense',\n",
        "             'spicy','sour','vanilla','fruit','molasses','woody','sticky','coffee',\n",
        "             'rich','dried.fruit']:\n",
        "    plot_bar_chart_with_percent_label(df=coco_df1, target_variable=attr)"
      ]
    },
    {
      "cell_type": "code",
      "source": [
        "for attr in ['ingredient_Beans','ingredient_Sugar','ingredient_Sweetener',\n",
        "             'ingredient_Cocoa_Butter','ingredient_vanilla',\n",
        "             'ingredient_lecithin','ingredient_salt', 'number_of_ingredients']:\n",
        "    plot_bar_chart_with_percent_label(df=coco_df1, target_variable=attr)"
      ],
      "metadata": {
        "colab": {
          "base_uri": "https://localhost:8080/",
          "height": 1000
        },
        "id": "a8hEWu1nMVEs",
        "outputId": "337faead-53ca-419a-9147-1d3b918e1fe0"
      },
      "execution_count": 109,
      "outputs": [
        {
          "output_type": "display_data",
          "data": {
            "text/plain": [
              "<Figure size 648x432 with 1 Axes>"
            ],
            "image/png": "[encoded data removed]"
          },
          "metadata": {
            "needs_background": "light"
          }
        },
        {
          "output_type": "display_data",
          "data": {
            "text/plain": [
              "<Figure size 648x432 with 1 Axes>"
            ],
            "image/png": "[encoded data removed]"
          },
          "metadata": {
            "needs_background": "light"
          }
        },
        {
          "output_type": "display_data",
          "data": {
            "text/plain": [
              "<Figure size 648x432 with 1 Axes>"
            ],
            "image/png": "[encoded data removed]"
          },
          "metadata": {
            "needs_background": "light"
          }
        },
        {
          "output_type": "display_data",
          "data": {
            "text/plain": [
              "<Figure size 648x432 with 1 Axes>"
            ],
            "image/png": "[encoded data removed]"
          },
          "metadata": {
            "needs_background": "light"
          }
        },
        {
          "output_type": "display_data",
          "data": {
            "text/plain": [
              "<Figure size 648x432 with 1 Axes>"
            ],
            "image/png": "[encoded data removed]"
          },
          "metadata": {
            "needs_background": "light"
          }
        },
        {
          "output_type": "display_data",
          "data": {
            "text/plain": [
              "<Figure size 648x432 with 1 Axes>"
            ],
            "image/png": "[encoded data removed]"
          },
          "metadata": {
            "needs_background": "light"
          }
        },
        {
          "output_type": "display_data",
          "data": {
            "text/plain": [
              "<Figure size 648x432 with 1 Axes>"
            ],
            "image/png": "[encoded data removed]"
          },
          "metadata": {
            "needs_background": "light"
          }
        },
        {
          "output_type": "display_data",
          "data": {
            "text/plain": [
              "<Figure size 648x432 with 1 Axes>"
            ],
            "image/png": "[encoded data removed]"
          },
          "metadata": {
            "needs_background": "light"
          }
        }
      ]
    },
    {
      "cell_type": "code",
      "execution_count": 118,
      "metadata": {
        "colab": {
          "base_uri": "https://localhost:8080/",
          "height": 662
        },
        "id": "gzARUX6OFJ9O",
        "outputId": "0dfa3d79-1866-452e-d624-0998396b7f04"
      },
      "outputs": [
        {
          "output_type": "display_data",
          "data": {
            "text/plain": [
              "<Figure size 612x360 with 1 Axes>"
            ],
            "image/png": "[encoded data removed]"
          },
          "metadata": {
            "needs_background": "light"
          }
        },
        {
          "output_type": "execute_result",
          "data": {
            "text/plain": [
              "                  count      mean       std  min   25%    50%   75%  max\n",
              "company_location                                                        \n",
              "Australia          40.0  3.425000  0.363389  2.5  3.25  3.500  3.75  4.0\n",
              "Belgium            48.0  3.239583  0.378822  2.5  3.00  3.125  3.50  4.0\n",
              "Canada            149.0  3.312081  0.391965  2.5  3.00  3.250  3.50  4.0\n",
              "Ecuador            39.0  3.141026  0.428411  2.5  2.75  3.000  3.50  4.0\n",
              "France            136.0  3.340074  0.409011  2.5  3.00  3.500  3.75  4.0\n",
              "Italy              59.0  3.322034  0.380140  2.5  3.00  3.250  3.50  4.0\n",
              "Other             512.0  3.222656  0.381808  2.5  3.00  3.250  3.50  4.0\n",
              "U.K.              102.0  3.149510  0.404584  2.5  2.75  3.000  3.50  4.0\n",
              "U.S.A.            931.0  3.219119  0.394075  2.5  3.00  3.250  3.50  4.0"
            ],
            "text/html": [
              "\n",
              "  <div id=\"df-21aa05d2-606e-4999-a0c6-25a440062b9b\">\n",
              "    <div class=\"colab-df-container\">\n",
              "      <div>\n",
              "<style scoped>\n",
              "    .dataframe tbody tr th:only-of-type {\n",
              "        vertical-align: middle;\n",
              "    }\n",
              "\n",
              "    .dataframe tbody tr th {\n",
              "        vertical-align: top;\n",
              "    }\n",
              "\n",
              "    .dataframe thead th {\n",
              "        text-align: right;\n",
              "    }\n",
              "</style>\n",
              "<table border=\"1\" class=\"dataframe\">\n",
              "  <thead>\n",
              "    <tr style=\"text-align: right;\">\n",
              "      <th></th>\n",
              "      <th>count</th>\n",
              "      <th>mean</th>\n",
              "      <th>std</th>\n",
              "      <th>min</th>\n",
              "      <th>25%</th>\n",
              "      <th>50%</th>\n",
              "      <th>75%</th>\n",
              "      <th>max</th>\n",
              "    </tr>\n",
              "    <tr>\n",
              "      <th>company_location</th>\n",
              "      <th></th>\n",
              "      <th></th>\n",
              "      <th></th>\n",
              "      <th></th>\n",
              "      <th></th>\n",
              "      <th></th>\n",
              "      <th></th>\n",
              "      <th></th>\n",
              "    </tr>\n",
              "  </thead>\n",
              "  <tbody>\n",
              "    <tr>\n",
              "      <th>Australia</th>\n",
              "      <td>40.0</td>\n",
              "      <td>3.425000</td>\n",
              "      <td>0.363389</td>\n",
              "      <td>2.5</td>\n",
              "      <td>3.25</td>\n",
              "      <td>3.500</td>\n",
              "      <td>3.75</td>\n",
              "      <td>4.0</td>\n",
              "    </tr>\n",
              "    <tr>\n",
              "      <th>Belgium</th>\n",
              "      <td>48.0</td>\n",
              "      <td>3.239583</td>\n",
              "      <td>0.378822</td>\n",
              "      <td>2.5</td>\n",
              "      <td>3.00</td>\n",
              "      <td>3.125</td>\n",
              "      <td>3.50</td>\n",
              "      <td>4.0</td>\n",
              "    </tr>\n",
              "    <tr>\n",
              "      <th>Canada</th>\n",
              "      <td>149.0</td>\n",
              "      <td>3.312081</td>\n",
              "      <td>0.391965</td>\n",
              "      <td>2.5</td>\n",
              "      <td>3.00</td>\n",
              "      <td>3.250</td>\n",
              "      <td>3.50</td>\n",
              "      <td>4.0</td>\n",
              "    </tr>\n",
              "    <tr>\n",
              "      <th>Ecuador</th>\n",
              "      <td>39.0</td>\n",
              "      <td>3.141026</td>\n",
              "      <td>0.428411</td>\n",
              "      <td>2.5</td>\n",
              "      <td>2.75</td>\n",
              "      <td>3.000</td>\n",
              "      <td>3.50</td>\n",
              "      <td>4.0</td>\n",
              "    </tr>\n",
              "    <tr>\n",
              "      <th>France</th>\n",
              "      <td>136.0</td>\n",
              "      <td>3.340074</td>\n",
              "      <td>0.409011</td>\n",
              "      <td>2.5</td>\n",
              "      <td>3.00</td>\n",
              "      <td>3.500</td>\n",
              "      <td>3.75</td>\n",
              "      <td>4.0</td>\n",
              "    </tr>\n",
              "    <tr>\n",
              "      <th>Italy</th>\n",
              "      <td>59.0</td>\n",
              "      <td>3.322034</td>\n",
              "      <td>0.380140</td>\n",
              "      <td>2.5</td>\n",
              "      <td>3.00</td>\n",
              "      <td>3.250</td>\n",
              "      <td>3.50</td>\n",
              "      <td>4.0</td>\n",
              "    </tr>\n",
              "    <tr>\n",
              "      <th>Other</th>\n",
              "      <td>512.0</td>\n",
              "      <td>3.222656</td>\n",
              "      <td>0.381808</td>\n",
              "      <td>2.5</td>\n",
              "      <td>3.00</td>\n",
              "      <td>3.250</td>\n",
              "      <td>3.50</td>\n",
              "      <td>4.0</td>\n",
              "    </tr>\n",
              "    <tr>\n",
              "      <th>U.K.</th>\n",
              "      <td>102.0</td>\n",
              "      <td>3.149510</td>\n",
              "      <td>0.404584</td>\n",
              "      <td>2.5</td>\n",
              "      <td>2.75</td>\n",
              "      <td>3.000</td>\n",
              "      <td>3.50</td>\n",
              "      <td>4.0</td>\n",
              "    </tr>\n",
              "    <tr>\n",
              "      <th>U.S.A.</th>\n",
              "      <td>931.0</td>\n",
              "      <td>3.219119</td>\n",
              "      <td>0.394075</td>\n",
              "      <td>2.5</td>\n",
              "      <td>3.00</td>\n",
              "      <td>3.250</td>\n",
              "      <td>3.50</td>\n",
              "      <td>4.0</td>\n",
              "    </tr>\n",
              "  </tbody>\n",
              "</table>\n",
              "</div>\n",
              "      <button class=\"colab-df-convert\" onclick=\"convertToInteractive('df-21aa05d2-606e-4999-a0c6-25a440062b9b')\"\n",
              "              title=\"Convert this dataframe to an interactive table.\"\n",
              "              style=\"display:none;\">\n",
              "        \n",
              "  <svg xmlns=\"http://www.w3.org/2000/svg\" height=\"24px\"viewBox=\"0 0 24 24\"\n",
              "       width=\"24px\">\n",
              "    <path d=\"M0 0h24v24H0V0z\" fill=\"none\"/>\n",
              "    <path d=\"M18.56 5.44l.94 2.06.94-2.06 2.06-.94-2.06-.94-.94-2.06-.94 2.06-2.06.94zm-11 1L8.5 8.5l.94-2.06 2.06-.94-2.06-.94L8.5 2.5l-.94 2.06-2.06.94zm10 10l.94 2.06.94-2.06 2.06-.94-2.06-.94-.94-2.06-.94 2.06-2.06.94z\"/><path d=\"M17.41 7.96l-1.37-1.37c-.4-.4-.92-.59-1.43-.59-.52 0-1.04.2-1.43.59L10.3 9.45l-7.72 7.72c-.78.78-.78 2.05 0 2.83L4 21.41c.39.39.9.59 1.41.59.51 0 1.02-.2 1.41-.59l7.78-7.78 2.81-2.81c.8-.78.8-2.07 0-2.86zM5.41 20L4 18.59l7.72-7.72 1.47 1.35L5.41 20z\"/>\n",
              "  </svg>\n",
              "      </button>\n",
              "      \n",
              "  <style>\n",
              "    .colab-df-container {\n",
              "      display:flex;\n",
              "      flex-wrap:wrap;\n",
              "      gap: 12px;\n",
              "    }\n",
              "\n",
              "    .colab-df-convert {\n",
              "      background-color: #E8F0FE;\n",
              "      border: none;\n",
              "      border-radius: 50%;\n",
              "      cursor: pointer;\n",
              "      display: none;\n",
              "      fill: #1967D2;\n",
              "      height: 32px;\n",
              "      padding: 0 0 0 0;\n",
              "      width: 32px;\n",
              "    }\n",
              "\n",
              "    .colab-df-convert:hover {\n",
              "      background-color: #E2EBFA;\n",
              "      box-shadow: 0px 1px 2px rgba(60, 64, 67, 0.3), 0px 1px 3px 1px rgba(60, 64, 67, 0.15);\n",
              "      fill: #174EA6;\n",
              "    }\n",
              "\n",
              "    [theme=dark] .colab-df-convert {\n",
              "      background-color: #3B4455;\n",
              "      fill: #D2E3FC;\n",
              "    }\n",
              "\n",
              "    [theme=dark] .colab-df-convert:hover {\n",
              "      background-color: #434B5C;\n",
              "      box-shadow: 0px 1px 3px 1px rgba(0, 0, 0, 0.15);\n",
              "      filter: drop-shadow(0px 1px 2px rgba(0, 0, 0, 0.3));\n",
              "      fill: #FFFFFF;\n",
              "    }\n",
              "  </style>\n",
              "\n",
              "      <script>\n",
              "        const buttonEl =\n",
              "          document.querySelector('#df-21aa05d2-606e-4999-a0c6-25a440062b9b button.colab-df-convert');\n",
              "        buttonEl.style.display =\n",
              "          google.colab.kernel.accessAllowed ? 'block' : 'none';\n",
              "\n",
              "        async function convertToInteractive(key) {\n",
              "          const element = document.querySelector('#df-21aa05d2-606e-4999-a0c6-25a440062b9b');\n",
              "          const dataTable =\n",
              "            await google.colab.kernel.invokeFunction('convertToInteractive',\n",
              "                                                     [key], {});\n",
              "          if (!dataTable) return;\n",
              "\n",
              "          const docLinkHtml = 'Like what you see? Visit the ' +\n",
              "            '<a target=\"_blank\" href=https://colab.research.google.com/notebooks/data_table.ipynb>data table notebook</a>'\n",
              "            + ' to learn more about interactive tables.';\n",
              "          element.innerHTML = '';\n",
              "          dataTable['output_type'] = 'display_data';\n",
              "          await google.colab.output.renderOutput(dataTable, element);\n",
              "          const docLink = document.createElement('div');\n",
              "          docLink.innerHTML = docLinkHtml;\n",
              "          element.appendChild(docLink);\n",
              "        }\n",
              "      </script>\n",
              "    </div>\n",
              "  </div>\n",
              "  "
            ]
          },
          "metadata": {},
          "execution_count": 118
        }
      ],
      "source": [
        "# Create barplot\n",
        "plt.figure(figsize=(8.5,5))\n",
        "company_graph = sns.barplot(x = 'company_location', y = 'rating', data = coco_df1, \n",
        "                          palette = 'gist_rainbow', linewidth = 2.3)\n",
        "\n",
        "\n",
        "# Bolding horizontal line at y = 0\n",
        "company_graph.axhline(y = 0, color = 'black', linewidth = 1.3, alpha = .70)\n",
        "\n",
        "# Remove the label of the x-axis\n",
        "company_graph.xaxis.label.set_visible(False)\n",
        "company_graph.yaxis.label.set_visible(False)\n",
        "\n",
        "\n",
        "plt.show()\n",
        "\n",
        "# Statistical summary\n",
        "coco_df1.groupby('company_location')['rating'].describe()"
      ]
    },
    {
      "cell_type": "code",
      "execution_count": null,
      "metadata": {
        "id": "e7rscNURFJ9O"
      },
      "outputs": [],
      "source": []
    },
    {
      "cell_type": "code",
      "execution_count": null,
      "metadata": {
        "id": "l82M5QXCFJ9O"
      },
      "outputs": [],
      "source": []
    },
    {
      "cell_type": "code",
      "execution_count": 125,
      "metadata": {
        "colab": {
          "base_uri": "https://localhost:8080/",
          "height": 374
        },
        "id": "iV3Sb1OxFJ9M",
        "outputId": "a30660f1-cb74-44e3-c5a0-9c708a34d776"
      },
      "outputs": [
        {
          "output_type": "display_data",
          "data": {
            "text/plain": [
              "<Figure size 432x288 with 2 Axes>"
            ],
            "image/png": "[encoded data removed]"
          },
          "metadata": {
            "needs_background": "light"
          }
        }
      ],
      "source": [
        "corr = coco_df1.corr()\n",
        "corr.style.background_gradient(cmap='coolwarm').set_precision(2)\n",
        "sns.heatmap(corr, annot=True)\n",
        "plt.rcParams[\"figure.figsize\"]=(2,1)\n",
        "plt.show()\n"
      ]
    },
    {
      "cell_type": "code",
      "execution_count": null,
      "metadata": {
        "id": "4SagiTGOFJ9O"
      },
      "outputs": [],
      "source": []
    },
    {
      "cell_type": "code",
      "execution_count": null,
      "metadata": {
        "id": "Nilp4rvqFJ9P"
      },
      "outputs": [],
      "source": []
    },
    {
      "cell_type": "code",
      "execution_count": null,
      "metadata": {
        "id": "JYup__6rFJ9L",
        "outputId": "2c56c379-2e17-42b0-a070-8b813836c90d"
      },
      "outputs": [
        {
          "data": {
            "text/plain": [
              "['company_location : Dependent',\n",
              " 'country_of_bean_origin : Dependent',\n",
              " 'sweet : Dependent',\n",
              " 'nutty : Dependent',\n",
              " 'cocoa : Dependent',\n",
              " 'roasty : Independent',\n",
              " 'earthy : Dependent',\n",
              " 'creamy : Dependent',\n",
              " 'sandy : Dependent',\n",
              " 'fatty : Dependent',\n",
              " 'floral : Independent',\n",
              " 'intense : Independent',\n",
              " 'spicy : Independent',\n",
              " 'sour : Dependent',\n",
              " 'vanilla : Dependent',\n",
              " 'fruit : Dependent',\n",
              " 'molasses : Dependent',\n",
              " 'woody : Independent',\n",
              " 'sticky : Independent',\n",
              " 'coffee : Independent',\n",
              " 'rich : Dependent',\n",
              " 'dried.fruit : Dependent',\n",
              " 'ingredient_Beans : Dependent',\n",
              " 'ingredient_Sugar : Dependent',\n",
              " 'ingredient_Sweetener : Independent',\n",
              " 'ingredient_Cocoa_Butter : Independent',\n",
              " 'ingredient_vanilla : Dependent',\n",
              " 'ingredient_lecithin : Dependent',\n",
              " 'ingredient_salt : Independent',\n",
              " 'n : Dependent']"
            ]
          },
          "execution_count": 20,
          "metadata": {},
          "output_type": "execute_result"
        }
      ],
      "source": [
        "cat_dep=[]\n",
        "cat_indep = []\n",
        "for name in cat:\n",
        "    crt=pd.crosstab(coco_cdf['rating'],coco_cdf[name])\n",
        "    stat, p, dof, expected = chi2_contingency(crt)\n",
        "    prob = 0.95\n",
        "    critical = chi2.ppf(prob, dof)\n",
        "    if abs(stat) >= critical:\n",
        "        cat_dep.append('{} : Dependent'.format(name))\n",
        "    else:\n",
        "        cat_dep.append('{} : Independent'.format(name))\n",
        "        cat_indep.append(name)\n",
        "cat_dep"
      ]
    },
    {
      "cell_type": "code",
      "execution_count": null,
      "metadata": {
        "id": "MTfctVZ5FJ9P"
      },
      "outputs": [],
      "source": []
    },
    {
      "cell_type": "code",
      "execution_count": null,
      "metadata": {
        "id": "8iDLyUafFJ9P"
      },
      "outputs": [],
      "source": []
    }
  ],
  "metadata": {
    "kernelspec": {
      "display_name": "Python 3",
      "language": "python",
      "name": "python3"
    },
    "language_info": {
      "codemirror_mode": {
        "name": "ipython",
        "version": 3
      },
      "file_extension": ".py",
      "mimetype": "text/x-python",
      "name": "python",
      "nbconvert_exporter": "python",
      "pygments_lexer": "ipython3",
      "version": "3.8.5"
    },
    "colab": {
      "provenance": []
    }
  },
  "nbformat": 4,
  "nbformat_minor": 0
}